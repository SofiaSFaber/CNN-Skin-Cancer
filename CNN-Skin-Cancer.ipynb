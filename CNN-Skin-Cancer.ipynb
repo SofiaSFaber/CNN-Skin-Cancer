{
  "nbformat": 4,
  "nbformat_minor": 0,
  "metadata": {
    "colab": {
      "name": "Sofia Faber Silveira - Trabalho Prático Diagnóstico por Imagem.ipynb",
      "provenance": [],
      "collapsed_sections": []
    },
    "kernelspec": {
      "name": "python3",
      "display_name": "Python 3"
    }
  },
  "cells": [
    {
      "cell_type": "markdown",
      "metadata": {
        "id": "IyZk0LWCBlwp"
      },
      "source": [
        "# <center> UFCSPA - Informática Biomédica - Diagnóstico por Imagem (RAD0010)<center>\n",
        "## <center> Trabalho Prático <center>\n",
        "## <center> Sofia Faber Silveira <center>\n"
      ]
    },
    {
      "cell_type": "markdown",
      "metadata": {
        "id": "kYp1uub3CgBh"
      },
      "source": [
        "#Conjunto de Dados\n",
        "Kaggle - Skin Cancer: Malignant vs. Benign (https://www.kaggle.com/fanconic/skin-cancer-malignant-vs-benign)"
      ]
    },
    {
      "cell_type": "markdown",
      "metadata": {
        "id": "P4k4Ts3XDojI"
      },
      "source": [
        "# Imports"
      ]
    },
    {
      "cell_type": "code",
      "metadata": {
        "id": "GLPkONg8DmGi"
      },
      "source": [
        "import os\n",
        "from PIL import Image\n",
        "\n",
        "%matplotlib inline\n",
        "import matplotlib.pyplot as plt\n",
        "import numpy as np\n",
        "\n",
        "import keras\n",
        "from keras.models import Sequential\n",
        "from keras.layers import Dense, Dropout, Flatten, Conv2D, MaxPool2D\n",
        "from keras import backend as K\n",
        "from keras.optimizers import Adam\n",
        "from keras.callbacks import ReduceLROnPlateau, ModelCheckpoint\n",
        "from keras.models import model_from_json\n",
        "\n",
        "from sklearn.metrics import accuracy_score, confusion_matrix\n",
        "\n",
        "import seaborn as sn"
      ],
      "execution_count": null,
      "outputs": []
    },
    {
      "cell_type": "markdown",
      "metadata": {
        "id": "KUeaKupbDArH"
      },
      "source": [
        "# Interface de Carregamento de Dados"
      ]
    },
    {
      "cell_type": "code",
      "metadata": {
        "id": "BIErF1TaBg0Y"
      },
      "source": [
        "treino_benigno = 'drive/MyDrive/Diagnostico/data/train/benign'\n",
        "treino_maligno = 'drive/MyDrive/Diagnostico/data/train/malignant'\n",
        "\n",
        "teste_benigno = 'drive/MyDrive/Diagnostico/data/test/benign'\n",
        "teste_maligno = 'drive/MyDrive/Diagnostico/data/test/malignant'\n",
        "\n",
        "read = lambda imname: np.asarray(Image.open(imname).convert(\"RGB\"))\n",
        "\n",
        "# Baixa imagens de treino\n",
        "benignos_treino = [read(os.path.join(treino_benigno, filename)) for filename in os.listdir(treino_benigno)]\n",
        "imagens_benignos_treino = np.array(benignos_treino, dtype='uint8')\n",
        "malignos_treino = [read(os.path.join(treino_maligno, filename)) for filename in os.listdir(treino_maligno)]\n",
        "imagens_malignos_treino = np.array(malignos_treino, dtype='uint8')\n",
        "\n",
        "# Baixa imagens de teste\n",
        "benignos_teste = [read(os.path.join(teste_benigno, filename)) for filename in os.listdir(teste_benigno)]\n",
        "imagens_benignos_teste = np.array(benignos_teste, dtype='uint8')\n",
        "malignos_teste = [read(os.path.join(teste_maligno, filename)) for filename in os.listdir(teste_maligno)]\n",
        "imagens_malignos_teste = np.array(malignos_teste, dtype='uint8')"
      ],
      "execution_count": null,
      "outputs": []
    },
    {
      "cell_type": "markdown",
      "metadata": {
        "id": "CLWRewPv_7uG"
      },
      "source": [
        "# Tratamento de Dados"
      ]
    },
    {
      "cell_type": "code",
      "metadata": {
        "id": "kfEUMDW__7OW"
      },
      "source": [
        "# Labels de classificação: 0 - Benigno / 1 - Maligno\n",
        "labels_benignos_treino = np.zeros(len(imagens_benignos_treino))\n",
        "labels_malignos_treino = np.ones(len(imagens_malignos_treino))\n",
        "\n",
        "labels_benignos_teste = np.zeros(len(imagens_benignos_teste))\n",
        "labels_malignos_teste = np.ones(len(imagens_malignos_teste))\n",
        "\n",
        "# Junta as imagens benignas e malignas\n",
        "imagens_treino = np.concatenate((imagens_benignos_treino, imagens_malignos_treino), axis = 0)\n",
        "labels_treino = np.concatenate((labels_benignos_treino, labels_malignos_treino), axis = 0)\n",
        "\n",
        "imagens_teste = np.concatenate((imagens_benignos_teste, imagens_malignos_teste), axis = 0)\n",
        "labels_teste = np.concatenate((labels_benignos_teste, labels_malignos_teste), axis = 0)\n",
        "\n",
        "# Randomização das imagens\n",
        "s = np.arange(len(imagens_treino))\n",
        "np.random.shuffle(s)\n",
        "imagens_treino = imagens_treino[s]\n",
        "labels_treino = labels_treino[s]\n",
        "\n",
        "s = np.arange(len(imagens_teste))\n",
        "np.random.shuffle(s)\n",
        "imagens_teste = imagens_teste[s]\n",
        "labels_teste = labels_teste[s]\n",
        "\n",
        "# Normalização das imagens\n",
        "imagens_treino = imagens_treino/255.\n",
        "imagens_teste = imagens_teste/255."
      ],
      "execution_count": null,
      "outputs": []
    },
    {
      "cell_type": "code",
      "metadata": {
        "id": "bcnACJ340jke"
      },
      "source": [
        "imagens_treino.shape, imagens_teste.shape, labels_treino.shape, labels_teste.shape"
      ],
      "execution_count": null,
      "outputs": []
    },
    {
      "cell_type": "markdown",
      "metadata": {
        "id": "1XJnd8_yBHVf"
      },
      "source": [
        "# Exemplo de Dados"
      ]
    },
    {
      "cell_type": "code",
      "metadata": {
        "id": "srZm06BeXsfC"
      },
      "source": [
        "# Plot de algumas imagens de treino com suas labels\n",
        "fig = plt.figure(figsize=(15, 10))\n",
        "fig.suptitle('Imagens Treino')\n",
        "columns = 5\n",
        "rows = 3\n",
        "\n",
        "for i in range(1, columns*rows +1):\n",
        "    ax = fig.add_subplot(rows, columns, i)\n",
        "    if labels_treino[i] == 0:\n",
        "        ax.title.set_text('Benigno')\n",
        "    else:\n",
        "        ax.title.set_text('Maligno')\n",
        "    plt.imshow(imagens_treino[i])\n",
        "plt.savefig('imagens_treino.png', format='png')\n",
        "plt.show()"
      ],
      "execution_count": null,
      "outputs": []
    },
    {
      "cell_type": "code",
      "metadata": {
        "id": "g-197kZlBOcg"
      },
      "source": [
        "# Plot de algumas imagens de teste com suas labels\n",
        "fig = plt.figure(figsize=(15, 10))\n",
        "fig.suptitle('Imagens Teste')\n",
        "columns = 5\n",
        "rows = 3\n",
        "\n",
        "for i in range(1, columns*rows +1):\n",
        "    ax = fig.add_subplot(rows, columns, i)\n",
        "    if labels_teste[i] == 0:\n",
        "        ax.title.set_text('Benigno')\n",
        "    else:\n",
        "        ax.title.set_text('Maligno')\n",
        "    plt.imshow(imagens_teste[i])\n",
        "\n",
        "plt.savefig('imagens_teste.png', format='png')\n",
        "plt.show()"
      ],
      "execution_count": null,
      "outputs": []
    },
    {
      "cell_type": "markdown",
      "metadata": {
        "id": "e8l-VRKKlM9H"
      },
      "source": [
        "# Arquitetura da Rede Neural Convolucional"
      ]
    },
    {
      "cell_type": "code",
      "metadata": {
        "id": "YC3Nd46PlTC7"
      },
      "source": [
        "def build():\n",
        "    model = Sequential()\n",
        "\n",
        "    # 1º Etapa\n",
        "    # Convolução\n",
        "    model.add(Conv2D(64, kernel_size=(7, 7), input_shape=(224,224,3), activation='relu')) \n",
        "    # Pooling\n",
        "    model.add(MaxPool2D(pool_size = (2, 2)))\n",
        "    # Dropout\n",
        "    model.add(Dropout(0.25))\n",
        "\n",
        "    # 2º Etapa\n",
        "    # Convolução\n",
        "    model.add(Conv2D(128, kernel_size=(3, 3), activation='relu')) \n",
        "    # Pooling\n",
        "    model.add(MaxPool2D(pool_size = (2, 2)))\n",
        "    # Dropout\n",
        "    model.add(Dropout(0.25))\n",
        "\n",
        "    # Flattening\n",
        "    model.add(Flatten()) \n",
        "    \n",
        "    # Full connection - Classificação\n",
        "    model.add(Dense(128, activation='relu'))\n",
        "    model.add(Dense(64, activation='relu'))\n",
        "    model.add(Dense(1, activation='sigmoid', name='predict'))\n",
        "    \n",
        "    model.summary()\n",
        "\n",
        "    model.compile(optimizer = Adam(lr=1e-3) , loss = \"binary_crossentropy\", metrics = [\"accuracy\"])\n",
        "    return model"
      ],
      "execution_count": null,
      "outputs": []
    },
    {
      "cell_type": "markdown",
      "metadata": {
        "id": "zafOcwiflTpH"
      },
      "source": [
        "# Metodologia de Treinamento e Obtenção do Modelo"
      ]
    },
    {
      "cell_type": "code",
      "metadata": {
        "id": "9x4pBh3rF8Gg"
      },
      "source": [
        "# Construção do Modelo\n",
        "model = build()\n",
        "\n",
        "# Visualização do Modelo\n",
        "keras.utils.plot_model(\n",
        "    model,\n",
        "    to_file=\"model.png\",\n",
        "    show_shapes=True,\n",
        "    show_dtype=False,\n",
        "    show_layer_names=False,\n",
        "    rankdir=\"TB\",\n",
        "    expand_nested=False,\n",
        "    dpi=96,\n",
        ")"
      ],
      "execution_count": null,
      "outputs": []
    },
    {
      "cell_type": "code",
      "metadata": {
        "id": "x5rpH8yYroLU"
      },
      "source": [
        "# Callbacks\n",
        "learning_rate_reduction = ReduceLROnPlateau(monitor='accuracy', patience=5, verbose=1, factor=0.5, min_lr=1e-7)\n",
        "best_model = ModelCheckpoint(\"best_model.h5\", monitor='val_accuracy', mode='max', verbose=1, save_best_only=True)\n",
        "\n",
        "# Treino do Modelo\n",
        "history = model.fit(imagens_treino, labels_treino, validation_split=0.2, epochs=50, batch_size=64, callbacks=[learning_rate_reduction,best_model])\n",
        "\n",
        "# Utilização do Melhor Modelo\n",
        "model.load_weights(\"best_model.h5\")\n",
        "\n",
        "# Histórico do Treinamento\n",
        "print(history.history.keys())"
      ],
      "execution_count": null,
      "outputs": []
    },
    {
      "cell_type": "markdown",
      "metadata": {
        "id": "G3y0loL2CryN"
      },
      "source": [
        "# Gráficos do Histórico de Treino"
      ]
    },
    {
      "cell_type": "code",
      "metadata": {
        "id": "JmcvW-FAtL67"
      },
      "source": [
        "# Plot do histórico de acurácia\n",
        "plt.plot(history.history['accuracy'], color='#004D84')\n",
        "plt.plot(history.history['val_accuracy'], color='#569ACB')\n",
        "plt.title('Acurácia do Modelo')\n",
        "plt.ylabel('Acurácia')\n",
        "plt.xlabel('Época')\n",
        "plt.legend(['Treino', 'Validação'], loc='upper left')\n",
        "plt.savefig('acuracia.png', format='png')\n",
        "plt.show()\n",
        "\n",
        "# Plot do histórico de perda\n",
        "plt.plot(history.history['loss'], color='#004D84')\n",
        "plt.plot(history.history['val_loss'], color='#569ACB')\n",
        "plt.title('Perda do Modelo')\n",
        "plt.ylabel('Perda')\n",
        "plt.xlabel('Época')\n",
        "plt.legend(['Treino', 'Validação'], loc='upper left')\n",
        "plt.savefig('perda.png', format='png')\n",
        "plt.show()\n",
        "\n",
        "# Plot do histórico de acurácia de treino\n",
        "plt.plot(history.history['accuracy'], label='Training', color='#004D84')\n",
        "plt.title('Acurácia Treino')\n",
        "plt.ylabel('Acurácia')\n",
        "plt.xlabel('Época')\n",
        "plt.savefig('acuracia_treino.png', format='png')\n",
        "plt.show()\n",
        "\n",
        "# Plot do histórico de acurácia de validação\n",
        "plt.plot(history.history[\"val_accuracy\"], label='Validation', color='#004D84')\n",
        "plt.title('Acurácia Validação')\n",
        "plt.ylabel('Acurácia')\n",
        "plt.xlabel('Época')\n",
        "plt.savefig('acuracia_validacao.png', format='png')\n",
        "plt.show()"
      ],
      "execution_count": null,
      "outputs": []
    },
    {
      "cell_type": "markdown",
      "metadata": {
        "id": "CUSSra7QLw0q"
      },
      "source": [
        "# Teste do Modelo"
      ]
    },
    {
      "cell_type": "code",
      "metadata": {
        "id": "zP_YwYBzJTLk"
      },
      "source": [
        "# Avaliação do modelo com as imagens de teste\n",
        "resultados = model.evaluate(imagens_teste, labels_teste, batch_size=64)\n",
        "print('Evaluate: \\n Perda:',resultados[0], '\\n Acurácia:',(resultados[1]))"
      ],
      "execution_count": null,
      "outputs": []
    },
    {
      "cell_type": "code",
      "metadata": {
        "id": "lLrhJxYGZhIq"
      },
      "source": [
        "# Predição das imagens de teste\n",
        "resultados_predicao = model.predict(imagens_teste, batch_size=64)\n",
        "labels_predicao = np.where(resultados_predicao>=0.5, 1,resultados_predicao) \n",
        "labels_predicao = np.where(labels_predicao<0.5, 0,labels_predicao)\n",
        "print('Predict: \\n Acurácia:',accuracy_score(labels_teste, labels_predicao))"
      ],
      "execution_count": null,
      "outputs": []
    },
    {
      "cell_type": "markdown",
      "metadata": {
        "id": "w4yD_LMplt_a"
      },
      "source": [
        "# Classificação dos Dados"
      ]
    },
    {
      "cell_type": "code",
      "metadata": {
        "id": "ByYZrOxIV53s"
      },
      "source": [
        "# Classificações\n",
        "print(\"Predição:\\n\", resultados_predicao)\n",
        "print(\"Classificação Predição:\\n\", labels_predicao)\n",
        "print(\"Classificação Correta:\\n\", labels_teste)"
      ],
      "execution_count": null,
      "outputs": []
    },
    {
      "cell_type": "code",
      "metadata": {
        "id": "cFPM4io8Ktnv"
      },
      "source": [
        "# Matriz de confusão\n",
        "matriz_confusao = confusion_matrix(labels_teste, labels_predicao)\n",
        "print(matriz_confusao)\n",
        "\n",
        "labels = ['benigno', 'maligno']\n",
        "sn.heatmap(matriz_confusao, annot=True, cmap=\"Blues\", fmt='d', xticklabels=(labels), yticklabels=(labels))\n",
        "\n",
        "plt.title('Matriz de confusão')\n",
        "ax.set_xticklabels([''] + labels)\n",
        "ax.set_yticklabels([''] + labels)\n",
        "plt.xlabel('Classificação Predição')\n",
        "plt.ylabel('Classificação Correta')\n",
        "plt.savefig('matriz_confusao.png', format='png')\n",
        "plt.show()"
      ],
      "execution_count": null,
      "outputs": []
    },
    {
      "cell_type": "markdown",
      "metadata": {
        "id": "dN79qgeN-_lV"
      },
      "source": [
        "# Finalização"
      ]
    },
    {
      "cell_type": "code",
      "metadata": {
        "id": "vobpXmsf938-"
      },
      "source": [
        "# Salva modelo\n",
        "model_json = model.to_json()\n",
        "with open(\"model.json\", \"w\") as json_file:\n",
        "    json_file.write(model_json)\n",
        "model.save_weights(\"best_model.h5\")"
      ],
      "execution_count": null,
      "outputs": []
    },
    {
      "cell_type": "code",
      "metadata": {
        "id": "bZCNybYsMe6Y"
      },
      "source": [
        "# Limpa memória\n",
        "del model\n",
        "K.clear_session()"
      ],
      "execution_count": null,
      "outputs": []
    }
  ]
}